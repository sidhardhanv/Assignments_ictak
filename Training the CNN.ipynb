{
 "cells": [
  {
   "cell_type": "code",
   "execution_count": 1,
   "id": "ed3a7736",
   "metadata": {},
   "outputs": [],
   "source": [
    "import numpy as np\n",
    "\n",
    "train_data = np.load('train_data.npy')\n",
    "train_target = np.load('train_target.npy')\n",
    "validation_data = np.load('validation_data.npy')\n",
    "validation_target = np.load('validation_target.npy')\n",
    "test_data = np.load('test_data.npy')\n",
    "test_target = np.load('test_target.npy')\n",
    "\n",
    "#loading the save numpy arrays in the previous code"
   ]
  },
  {
   "cell_type": "code",
   "execution_count": 2,
   "id": "1746c8b4",
   "metadata": {},
   "outputs": [
    {
     "name": "stdout",
     "output_type": "stream",
     "text": [
      "Epoch 1/20\n",
      "125/125 [==============================] - ETA: 0s - loss: 1.3170 - accuracy: 0.5545INFO:tensorflow:Assets written to: model-001.model/assets\n"
     ]
    },
    {
     "name": "stderr",
     "output_type": "stream",
     "text": [
      "INFO:tensorflow:Assets written to: model-001.model/assets\n"
     ]
    },
    {
     "name": "stdout",
     "output_type": "stream",
     "text": [
      "125/125 [==============================] - 37s 293ms/step - loss: 1.3170 - accuracy: 0.5545 - val_loss: 0.9688 - val_accuracy: 0.7400\n",
      "Epoch 2/20\n",
      "125/125 [==============================] - ETA: 0s - loss: 0.8422 - accuracy: 0.7855INFO:tensorflow:Assets written to: model-002.model/assets\n"
     ]
    },
    {
     "name": "stderr",
     "output_type": "stream",
     "text": [
      "INFO:tensorflow:Assets written to: model-002.model/assets\n"
     ]
    },
    {
     "name": "stdout",
     "output_type": "stream",
     "text": [
      "125/125 [==============================] - 40s 321ms/step - loss: 0.8422 - accuracy: 0.7855 - val_loss: 0.7843 - val_accuracy: 0.8188\n",
      "Epoch 3/20\n",
      "125/125 [==============================] - ETA: 0s - loss: 0.7776 - accuracy: 0.8108INFO:tensorflow:Assets written to: model-003.model/assets\n"
     ]
    },
    {
     "name": "stderr",
     "output_type": "stream",
     "text": [
      "INFO:tensorflow:Assets written to: model-003.model/assets\n"
     ]
    },
    {
     "name": "stdout",
     "output_type": "stream",
     "text": [
      "125/125 [==============================] - 41s 332ms/step - loss: 0.7776 - accuracy: 0.8108 - val_loss: 0.5829 - val_accuracy: 0.8900\n",
      "Epoch 4/20\n",
      "125/125 [==============================] - 42s 332ms/step - loss: 0.6414 - accuracy: 0.8615 - val_loss: 0.5979 - val_accuracy: 0.8875\n",
      "Epoch 5/20\n",
      "125/125 [==============================] - ETA: 0s - loss: 0.5639 - accuracy: 0.8978INFO:tensorflow:Assets written to: model-005.model/assets\n"
     ]
    },
    {
     "name": "stderr",
     "output_type": "stream",
     "text": [
      "INFO:tensorflow:Assets written to: model-005.model/assets\n"
     ]
    },
    {
     "name": "stdout",
     "output_type": "stream",
     "text": [
      "125/125 [==============================] - 42s 334ms/step - loss: 0.5639 - accuracy: 0.8978 - val_loss: 0.5080 - val_accuracy: 0.9250\n",
      "Epoch 6/20\n",
      "125/125 [==============================] - ETA: 0s - loss: 0.5415 - accuracy: 0.9078INFO:tensorflow:Assets written to: model-006.model/assets\n"
     ]
    },
    {
     "name": "stderr",
     "output_type": "stream",
     "text": [
      "INFO:tensorflow:Assets written to: model-006.model/assets\n"
     ]
    },
    {
     "name": "stdout",
     "output_type": "stream",
     "text": [
      "125/125 [==============================] - 42s 337ms/step - loss: 0.5415 - accuracy: 0.9078 - val_loss: 0.4820 - val_accuracy: 0.9312\n",
      "Epoch 7/20\n",
      "125/125 [==============================] - ETA: 0s - loss: 0.4696 - accuracy: 0.9300INFO:tensorflow:Assets written to: model-007.model/assets\n"
     ]
    },
    {
     "name": "stderr",
     "output_type": "stream",
     "text": [
      "INFO:tensorflow:Assets written to: model-007.model/assets\n"
     ]
    },
    {
     "name": "stdout",
     "output_type": "stream",
     "text": [
      "125/125 [==============================] - 42s 338ms/step - loss: 0.4696 - accuracy: 0.9300 - val_loss: 0.4816 - val_accuracy: 0.9262\n",
      "Epoch 8/20\n",
      "125/125 [==============================] - ETA: 0s - loss: 0.4516 - accuracy: 0.9383INFO:tensorflow:Assets written to: model-008.model/assets\n"
     ]
    },
    {
     "name": "stderr",
     "output_type": "stream",
     "text": [
      "INFO:tensorflow:Assets written to: model-008.model/assets\n"
     ]
    },
    {
     "name": "stdout",
     "output_type": "stream",
     "text": [
      "125/125 [==============================] - 43s 340ms/step - loss: 0.4516 - accuracy: 0.9383 - val_loss: 0.3796 - val_accuracy: 0.9588\n",
      "Epoch 9/20\n",
      "125/125 [==============================] - 42s 335ms/step - loss: 0.4180 - accuracy: 0.9488 - val_loss: 0.4171 - val_accuracy: 0.9538\n",
      "Epoch 10/20\n",
      "125/125 [==============================] - 42s 335ms/step - loss: 0.3756 - accuracy: 0.9613 - val_loss: 0.3820 - val_accuracy: 0.9550\n",
      "Epoch 11/20\n",
      "125/125 [==============================] - 42s 335ms/step - loss: 0.4631 - accuracy: 0.9312 - val_loss: 0.5984 - val_accuracy: 0.9237\n",
      "Epoch 12/20\n",
      "125/125 [==============================] - ETA: 0s - loss: 0.4359 - accuracy: 0.9510INFO:tensorflow:Assets written to: model-012.model/assets\n"
     ]
    },
    {
     "name": "stderr",
     "output_type": "stream",
     "text": [
      "INFO:tensorflow:Assets written to: model-012.model/assets\n"
     ]
    },
    {
     "name": "stdout",
     "output_type": "stream",
     "text": [
      "125/125 [==============================] - 43s 342ms/step - loss: 0.4359 - accuracy: 0.9510 - val_loss: 0.3616 - val_accuracy: 0.9588\n",
      "Epoch 13/20\n",
      "125/125 [==============================] - ETA: 0s - loss: 0.3233 - accuracy: 0.9725INFO:tensorflow:Assets written to: model-013.model/assets\n"
     ]
    },
    {
     "name": "stderr",
     "output_type": "stream",
     "text": [
      "INFO:tensorflow:Assets written to: model-013.model/assets\n"
     ]
    },
    {
     "name": "stdout",
     "output_type": "stream",
     "text": [
      "125/125 [==============================] - 43s 346ms/step - loss: 0.3233 - accuracy: 0.9725 - val_loss: 0.3039 - val_accuracy: 0.9712\n",
      "Epoch 14/20\n",
      "125/125 [==============================] - 44s 349ms/step - loss: 0.3645 - accuracy: 0.9535 - val_loss: 0.4529 - val_accuracy: 0.9312\n",
      "Epoch 15/20\n",
      "125/125 [==============================] - 45s 358ms/step - loss: 0.3505 - accuracy: 0.9700 - val_loss: 0.3243 - val_accuracy: 0.9700\n",
      "Epoch 16/20\n",
      "125/125 [==============================] - 45s 357ms/step - loss: 0.3141 - accuracy: 0.9690 - val_loss: 0.4312 - val_accuracy: 0.9325\n",
      "Epoch 17/20\n",
      "125/125 [==============================] - 44s 350ms/step - loss: 0.3747 - accuracy: 0.9632 - val_loss: 0.3951 - val_accuracy: 0.9463\n",
      "Epoch 18/20\n",
      "125/125 [==============================] - ETA: 0s - loss: 0.3028 - accuracy: 0.9772INFO:tensorflow:Assets written to: model-018.model/assets\n"
     ]
    },
    {
     "name": "stderr",
     "output_type": "stream",
     "text": [
      "INFO:tensorflow:Assets written to: model-018.model/assets\n"
     ]
    },
    {
     "name": "stdout",
     "output_type": "stream",
     "text": [
      "125/125 [==============================] - 44s 350ms/step - loss: 0.3028 - accuracy: 0.9772 - val_loss: 0.3036 - val_accuracy: 0.9712\n",
      "Epoch 19/20\n",
      "125/125 [==============================] - 43s 344ms/step - loss: 0.3031 - accuracy: 0.9722 - val_loss: 0.3390 - val_accuracy: 0.9688\n",
      "Epoch 20/20\n",
      "125/125 [==============================] - 43s 341ms/step - loss: 0.3199 - accuracy: 0.9715 - val_loss: 0.3160 - val_accuracy: 0.9663\n"
     ]
    }
   ],
   "source": [
    "from keras.models import Sequential\n",
    "from keras.layers import Dense, Activation, Flatten, Dropout\n",
    "from keras.layers import Conv2D, MaxPooling2D\n",
    "from keras.callbacks import ModelCheckpoint, EarlyStopping\n",
    "from keras.regularizers import l2\n",
    "\n",
    "model = Sequential()\n",
    "\n",
    "model.add(Conv2D(64, (3, 3), input_shape = train_data.shape[1:], activation='relu'))\n",
    "model.add(MaxPooling2D(pool_size = (2, 2)))\n",
    "\n",
    "model.add(Conv2D(128, (3, 3), activation = 'relu'))\n",
    "model.add(MaxPooling2D(pool_size = (2, 2)))\n",
    "\n",
    "model.add(Conv2D(256, (3, 3), activation = 'relu'))\n",
    "model.add(MaxPooling2D(pool_size = (2, 2)))\n",
    "\n",
    "model.add(Flatten())\n",
    "model.add(Dropout(0.5))\n",
    "model.add(Dense(128, activation = 'relu', kernel_regularizer = l2(0.01)))\n",
    "model.add(Dense(5, activation = 'softmax'))\n",
    "\n",
    "model.compile(loss = 'categorical_crossentropy', optimizer = 'adam', metrics = ['accuracy'])\n",
    "\n",
    "# Define callbacks\n",
    "checkpoint = ModelCheckpoint('model-{epoch:03d}.model', monitor = 'val_loss', verbose = 0, save_best_only = True, mode = 'auto')\n",
    "early_stopping = EarlyStopping(monitor = 'val_loss', patience = 10, restore_best_weights = True)\n",
    "\n",
    "# Train the model with callbacks\n",
    "history = model.fit(train_data, train_target, epochs = 20, validation_data = (validation_data, validation_target), callbacks = [checkpoint, early_stopping])"
   ]
  },
  {
   "cell_type": "code",
   "execution_count": 3,
   "id": "ebe9b9ed",
   "metadata": {},
   "outputs": [
    {
     "name": "stdout",
     "output_type": "stream",
     "text": [
      "25/25 [==============================] - 2s 83ms/step - loss: 0.3220 - accuracy: 0.9650\n",
      "[0.32200443744659424, 0.9649999737739563]\n"
     ]
    }
   ],
   "source": [
    "print(model.evaluate(test_data,test_target))"
   ]
  },
  {
   "cell_type": "code",
   "execution_count": null,
   "id": "dcedcad4",
   "metadata": {},
   "outputs": [],
   "source": []
  }
 ],
 "metadata": {
  "kernelspec": {
   "display_name": "Python 3 (ipykernel)",
   "language": "python",
   "name": "python3"
  },
  "language_info": {
   "codemirror_mode": {
    "name": "ipython",
    "version": 3
   },
   "file_extension": ".py",
   "mimetype": "text/x-python",
   "name": "python",
   "nbconvert_exporter": "python",
   "pygments_lexer": "ipython3",
   "version": "3.11.4"
  }
 },
 "nbformat": 4,
 "nbformat_minor": 5
}
