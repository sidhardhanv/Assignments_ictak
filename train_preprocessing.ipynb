{
 "cells": [
  {
   "cell_type": "code",
   "execution_count": 1,
   "id": "f9a9e9db",
   "metadata": {},
   "outputs": [
    {
     "name": "stdout",
     "output_type": "stream",
     "text": [
      "{'.DS_Store': 0, 'Bean': 1, 'Brinjal': 2, 'Bitter_Gourd': 3, 'Bottle_Gourd': 4}\n",
      "['.DS_Store', 'Bean', 'Brinjal', 'Bitter_Gourd', 'Bottle_Gourd']\n",
      "[0, 1, 2, 3, 4]\n"
     ]
    }
   ],
   "source": [
    "import cv2,os\n",
    "\n",
    "data_path = 'train'\n",
    "categories =os .listdir(data_path)\n",
    "labels = [i for i in range(len(categories))]\n",
    "\n",
    "label_dict = dict(zip(categories,labels))\n",
    "\n",
    "print(label_dict)\n",
    "print(categories)\n",
    "print(labels)"
   ]
  },
  {
   "cell_type": "code",
   "execution_count": 2,
   "id": "a10e64d9",
   "metadata": {},
   "outputs": [],
   "source": [
    "del categories[0]\n",
    "del labels[0]"
   ]
  },
  {
   "cell_type": "code",
   "execution_count": 3,
   "id": "30fd09d1",
   "metadata": {},
   "outputs": [
    {
     "name": "stdout",
     "output_type": "stream",
     "text": [
      "['Bean', 'Brinjal', 'Bitter_Gourd', 'Bottle_Gourd']\n",
      "[1, 2, 3, 4]\n"
     ]
    }
   ],
   "source": [
    "print(categories)\n",
    "print(labels)"
   ]
  },
  {
   "cell_type": "code",
   "execution_count": 4,
   "id": "2c7fd8e4",
   "metadata": {},
   "outputs": [],
   "source": [
    "img_size = 100\n",
    "data = []\n",
    "target = []\n",
    "\n",
    "\n",
    "for category in categories:\n",
    "    folder_path = os.path.join(data_path,category)\n",
    "    img_names = os.listdir(folder_path)\n",
    "        \n",
    "    for img_name in img_names:\n",
    "        img_path =os.path.join(folder_path,img_name)\n",
    "        img = cv2.imread(img_path)\n",
    "\n",
    "        try:\n",
    "            gray = cv2.cvtColor(img,cv2.COLOR_BGR2GRAY)           \n",
    "            #Coverting the image into gray scale\n",
    "            resized = cv2.resize(gray,(img_size,img_size))\n",
    "            #resizing the gray scale into 100x100, since we need a fixed common size for all the images in the dataset\n",
    "            data.append(resized)\n",
    "            target.append(label_dict[category])\n",
    "            #appending the image and the label(categorized) into the list (dataset)\n",
    "\n",
    "        except Exception as e:\n",
    "            print('Exception:',e)\n",
    "            #if any exception rasied, the exception will be printed here. And pass to the next image"
   ]
  },
  {
   "cell_type": "code",
   "execution_count": 5,
   "id": "ad351852",
   "metadata": {},
   "outputs": [],
   "source": [
    "import numpy as np\n",
    "\n",
    "data = np.array(data)/255.0\n",
    "data = np.reshape(data,(data.shape[0],img_size,img_size,1))\n",
    "target = np.array(target)\n",
    "\n",
    "from keras.utils import to_categorical\n",
    "\n",
    "new_target = to_categorical(target)"
   ]
  },
  {
   "cell_type": "code",
   "execution_count": 6,
   "id": "81490c88",
   "metadata": {},
   "outputs": [],
   "source": [
    "np.save('train_data',data)\n",
    "np.save('train_target',new_target)"
   ]
  },
  {
   "cell_type": "code",
   "execution_count": null,
   "id": "c8f140ff",
   "metadata": {},
   "outputs": [],
   "source": []
  }
 ],
 "metadata": {
  "kernelspec": {
   "display_name": "Python 3 (ipykernel)",
   "language": "python",
   "name": "python3"
  },
  "language_info": {
   "codemirror_mode": {
    "name": "ipython",
    "version": 3
   },
   "file_extension": ".py",
   "mimetype": "text/x-python",
   "name": "python",
   "nbconvert_exporter": "python",
   "pygments_lexer": "ipython3",
   "version": "3.11.4"
  }
 },
 "nbformat": 4,
 "nbformat_minor": 5
}
