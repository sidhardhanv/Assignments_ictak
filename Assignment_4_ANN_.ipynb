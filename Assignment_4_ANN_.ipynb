{
  "nbformat": 4,
  "nbformat_minor": 0,
  "metadata": {
    "colab": {
      "provenance": []
    },
    "kernelspec": {
      "name": "python3",
      "display_name": "Python 3"
    },
    "language_info": {
      "name": "python"
    }
  },
  "cells": [
    {
      "cell_type": "code",
      "execution_count": 1,
      "metadata": {
        "id": "VIGrbj3RFAzV"
      },
      "outputs": [],
      "source": [
        "import numpy as np\n",
        "import pandas as pd"
      ]
    },
    {
      "cell_type": "code",
      "source": [
        "data = pd.read_csv('/content/mobile_price_classification.csv')"
      ],
      "metadata": {
        "id": "S_Y1RDLjFajJ"
      },
      "execution_count": 2,
      "outputs": []
    },
    {
      "cell_type": "code",
      "source": [
        "data.head()"
      ],
      "metadata": {
        "colab": {
          "base_uri": "https://localhost:8080/",
          "height": 253
        },
        "id": "j0KcjdoIFpYa",
        "outputId": "0af55b8f-118b-4d0d-d52f-3ad7f26ce12e"
      },
      "execution_count": 3,
      "outputs": [
        {
          "output_type": "execute_result",
          "data": {
            "text/plain": [
              "   battery_power  bluetooth  clock_speed  dual_sim  front_cam  4G  int_memory  \\\n",
              "0            842          0          2.2         0          1   0           7   \n",
              "1           1021          1          0.5         1          0   1          53   \n",
              "2            563          1          0.5         1          2   1          41   \n",
              "3            615          1          2.5         0          0   0          10   \n",
              "4           1821          1          1.2         0         13   1          44   \n",
              "\n",
              "   m_dep  mobile_wt  n_cores  ...  px_height  px_width   ram  sc_h  sc_w  \\\n",
              "0    0.6        188        2  ...         20       756  2549     9     7   \n",
              "1    0.7        136        3  ...        905      1988  2631    17     3   \n",
              "2    0.9        145        5  ...       1263      1716  2603    11     2   \n",
              "3    0.8        131        6  ...       1216      1786  2769    16     8   \n",
              "4    0.6        141        2  ...       1208      1212  1411     8     2   \n",
              "\n",
              "   talk_time  three_g  touch_screen  wifi  price_range  \n",
              "0         19        0             0     1            1  \n",
              "1          7        1             1     0            2  \n",
              "2          9        1             1     0            2  \n",
              "3         11        1             0     0            2  \n",
              "4         15        1             1     0            1  \n",
              "\n",
              "[5 rows x 21 columns]"
            ],
            "text/html": [
              "\n",
              "  <div id=\"df-606aae73-adb8-49bb-a4dd-1c210abff1f7\" class=\"colab-df-container\">\n",
              "    <div>\n",
              "<style scoped>\n",
              "    .dataframe tbody tr th:only-of-type {\n",
              "        vertical-align: middle;\n",
              "    }\n",
              "\n",
              "    .dataframe tbody tr th {\n",
              "        vertical-align: top;\n",
              "    }\n",
              "\n",
              "    .dataframe thead th {\n",
              "        text-align: right;\n",
              "    }\n",
              "</style>\n",
              "<table border=\"1\" class=\"dataframe\">\n",
              "  <thead>\n",
              "    <tr style=\"text-align: right;\">\n",
              "      <th></th>\n",
              "      <th>battery_power</th>\n",
              "      <th>bluetooth</th>\n",
              "      <th>clock_speed</th>\n",
              "      <th>dual_sim</th>\n",
              "      <th>front_cam</th>\n",
              "      <th>4G</th>\n",
              "      <th>int_memory</th>\n",
              "      <th>m_dep</th>\n",
              "      <th>mobile_wt</th>\n",
              "      <th>n_cores</th>\n",
              "      <th>...</th>\n",
              "      <th>px_height</th>\n",
              "      <th>px_width</th>\n",
              "      <th>ram</th>\n",
              "      <th>sc_h</th>\n",
              "      <th>sc_w</th>\n",
              "      <th>talk_time</th>\n",
              "      <th>three_g</th>\n",
              "      <th>touch_screen</th>\n",
              "      <th>wifi</th>\n",
              "      <th>price_range</th>\n",
              "    </tr>\n",
              "  </thead>\n",
              "  <tbody>\n",
              "    <tr>\n",
              "      <th>0</th>\n",
              "      <td>842</td>\n",
              "      <td>0</td>\n",
              "      <td>2.2</td>\n",
              "      <td>0</td>\n",
              "      <td>1</td>\n",
              "      <td>0</td>\n",
              "      <td>7</td>\n",
              "      <td>0.6</td>\n",
              "      <td>188</td>\n",
              "      <td>2</td>\n",
              "      <td>...</td>\n",
              "      <td>20</td>\n",
              "      <td>756</td>\n",
              "      <td>2549</td>\n",
              "      <td>9</td>\n",
              "      <td>7</td>\n",
              "      <td>19</td>\n",
              "      <td>0</td>\n",
              "      <td>0</td>\n",
              "      <td>1</td>\n",
              "      <td>1</td>\n",
              "    </tr>\n",
              "    <tr>\n",
              "      <th>1</th>\n",
              "      <td>1021</td>\n",
              "      <td>1</td>\n",
              "      <td>0.5</td>\n",
              "      <td>1</td>\n",
              "      <td>0</td>\n",
              "      <td>1</td>\n",
              "      <td>53</td>\n",
              "      <td>0.7</td>\n",
              "      <td>136</td>\n",
              "      <td>3</td>\n",
              "      <td>...</td>\n",
              "      <td>905</td>\n",
              "      <td>1988</td>\n",
              "      <td>2631</td>\n",
              "      <td>17</td>\n",
              "      <td>3</td>\n",
              "      <td>7</td>\n",
              "      <td>1</td>\n",
              "      <td>1</td>\n",
              "      <td>0</td>\n",
              "      <td>2</td>\n",
              "    </tr>\n",
              "    <tr>\n",
              "      <th>2</th>\n",
              "      <td>563</td>\n",
              "      <td>1</td>\n",
              "      <td>0.5</td>\n",
              "      <td>1</td>\n",
              "      <td>2</td>\n",
              "      <td>1</td>\n",
              "      <td>41</td>\n",
              "      <td>0.9</td>\n",
              "      <td>145</td>\n",
              "      <td>5</td>\n",
              "      <td>...</td>\n",
              "      <td>1263</td>\n",
              "      <td>1716</td>\n",
              "      <td>2603</td>\n",
              "      <td>11</td>\n",
              "      <td>2</td>\n",
              "      <td>9</td>\n",
              "      <td>1</td>\n",
              "      <td>1</td>\n",
              "      <td>0</td>\n",
              "      <td>2</td>\n",
              "    </tr>\n",
              "    <tr>\n",
              "      <th>3</th>\n",
              "      <td>615</td>\n",
              "      <td>1</td>\n",
              "      <td>2.5</td>\n",
              "      <td>0</td>\n",
              "      <td>0</td>\n",
              "      <td>0</td>\n",
              "      <td>10</td>\n",
              "      <td>0.8</td>\n",
              "      <td>131</td>\n",
              "      <td>6</td>\n",
              "      <td>...</td>\n",
              "      <td>1216</td>\n",
              "      <td>1786</td>\n",
              "      <td>2769</td>\n",
              "      <td>16</td>\n",
              "      <td>8</td>\n",
              "      <td>11</td>\n",
              "      <td>1</td>\n",
              "      <td>0</td>\n",
              "      <td>0</td>\n",
              "      <td>2</td>\n",
              "    </tr>\n",
              "    <tr>\n",
              "      <th>4</th>\n",
              "      <td>1821</td>\n",
              "      <td>1</td>\n",
              "      <td>1.2</td>\n",
              "      <td>0</td>\n",
              "      <td>13</td>\n",
              "      <td>1</td>\n",
              "      <td>44</td>\n",
              "      <td>0.6</td>\n",
              "      <td>141</td>\n",
              "      <td>2</td>\n",
              "      <td>...</td>\n",
              "      <td>1208</td>\n",
              "      <td>1212</td>\n",
              "      <td>1411</td>\n",
              "      <td>8</td>\n",
              "      <td>2</td>\n",
              "      <td>15</td>\n",
              "      <td>1</td>\n",
              "      <td>1</td>\n",
              "      <td>0</td>\n",
              "      <td>1</td>\n",
              "    </tr>\n",
              "  </tbody>\n",
              "</table>\n",
              "<p>5 rows × 21 columns</p>\n",
              "</div>\n",
              "    <div class=\"colab-df-buttons\">\n",
              "\n",
              "  <div class=\"colab-df-container\">\n",
              "    <button class=\"colab-df-convert\" onclick=\"convertToInteractive('df-606aae73-adb8-49bb-a4dd-1c210abff1f7')\"\n",
              "            title=\"Convert this dataframe to an interactive table.\"\n",
              "            style=\"display:none;\">\n",
              "\n",
              "  <svg xmlns=\"http://www.w3.org/2000/svg\" height=\"24px\" viewBox=\"0 -960 960 960\">\n",
              "    <path d=\"M120-120v-720h720v720H120Zm60-500h600v-160H180v160Zm220 220h160v-160H400v160Zm0 220h160v-160H400v160ZM180-400h160v-160H180v160Zm440 0h160v-160H620v160ZM180-180h160v-160H180v160Zm440 0h160v-160H620v160Z\"/>\n",
              "  </svg>\n",
              "    </button>\n",
              "\n",
              "  <style>\n",
              "    .colab-df-container {\n",
              "      display:flex;\n",
              "      gap: 12px;\n",
              "    }\n",
              "\n",
              "    .colab-df-convert {\n",
              "      background-color: #E8F0FE;\n",
              "      border: none;\n",
              "      border-radius: 50%;\n",
              "      cursor: pointer;\n",
              "      display: none;\n",
              "      fill: #1967D2;\n",
              "      height: 32px;\n",
              "      padding: 0 0 0 0;\n",
              "      width: 32px;\n",
              "    }\n",
              "\n",
              "    .colab-df-convert:hover {\n",
              "      background-color: #E2EBFA;\n",
              "      box-shadow: 0px 1px 2px rgba(60, 64, 67, 0.3), 0px 1px 3px 1px rgba(60, 64, 67, 0.15);\n",
              "      fill: #174EA6;\n",
              "    }\n",
              "\n",
              "    .colab-df-buttons div {\n",
              "      margin-bottom: 4px;\n",
              "    }\n",
              "\n",
              "    [theme=dark] .colab-df-convert {\n",
              "      background-color: #3B4455;\n",
              "      fill: #D2E3FC;\n",
              "    }\n",
              "\n",
              "    [theme=dark] .colab-df-convert:hover {\n",
              "      background-color: #434B5C;\n",
              "      box-shadow: 0px 1px 3px 1px rgba(0, 0, 0, 0.15);\n",
              "      filter: drop-shadow(0px 1px 2px rgba(0, 0, 0, 0.3));\n",
              "      fill: #FFFFFF;\n",
              "    }\n",
              "  </style>\n",
              "\n",
              "    <script>\n",
              "      const buttonEl =\n",
              "        document.querySelector('#df-606aae73-adb8-49bb-a4dd-1c210abff1f7 button.colab-df-convert');\n",
              "      buttonEl.style.display =\n",
              "        google.colab.kernel.accessAllowed ? 'block' : 'none';\n",
              "\n",
              "      async function convertToInteractive(key) {\n",
              "        const element = document.querySelector('#df-606aae73-adb8-49bb-a4dd-1c210abff1f7');\n",
              "        const dataTable =\n",
              "          await google.colab.kernel.invokeFunction('convertToInteractive',\n",
              "                                                    [key], {});\n",
              "        if (!dataTable) return;\n",
              "\n",
              "        const docLinkHtml = 'Like what you see? Visit the ' +\n",
              "          '<a target=\"_blank\" href=https://colab.research.google.com/notebooks/data_table.ipynb>data table notebook</a>'\n",
              "          + ' to learn more about interactive tables.';\n",
              "        element.innerHTML = '';\n",
              "        dataTable['output_type'] = 'display_data';\n",
              "        await google.colab.output.renderOutput(dataTable, element);\n",
              "        const docLink = document.createElement('div');\n",
              "        docLink.innerHTML = docLinkHtml;\n",
              "        element.appendChild(docLink);\n",
              "      }\n",
              "    </script>\n",
              "  </div>\n",
              "\n",
              "\n",
              "<div id=\"df-76e873fa-43b4-48d2-9627-9ed07ee7b93c\">\n",
              "  <button class=\"colab-df-quickchart\" onclick=\"quickchart('df-76e873fa-43b4-48d2-9627-9ed07ee7b93c')\"\n",
              "            title=\"Suggest charts\"\n",
              "            style=\"display:none;\">\n",
              "\n",
              "<svg xmlns=\"http://www.w3.org/2000/svg\" height=\"24px\"viewBox=\"0 0 24 24\"\n",
              "     width=\"24px\">\n",
              "    <g>\n",
              "        <path d=\"M19 3H5c-1.1 0-2 .9-2 2v14c0 1.1.9 2 2 2h14c1.1 0 2-.9 2-2V5c0-1.1-.9-2-2-2zM9 17H7v-7h2v7zm4 0h-2V7h2v10zm4 0h-2v-4h2v4z\"/>\n",
              "    </g>\n",
              "</svg>\n",
              "  </button>\n",
              "\n",
              "<style>\n",
              "  .colab-df-quickchart {\n",
              "      --bg-color: #E8F0FE;\n",
              "      --fill-color: #1967D2;\n",
              "      --hover-bg-color: #E2EBFA;\n",
              "      --hover-fill-color: #174EA6;\n",
              "      --disabled-fill-color: #AAA;\n",
              "      --disabled-bg-color: #DDD;\n",
              "  }\n",
              "\n",
              "  [theme=dark] .colab-df-quickchart {\n",
              "      --bg-color: #3B4455;\n",
              "      --fill-color: #D2E3FC;\n",
              "      --hover-bg-color: #434B5C;\n",
              "      --hover-fill-color: #FFFFFF;\n",
              "      --disabled-bg-color: #3B4455;\n",
              "      --disabled-fill-color: #666;\n",
              "  }\n",
              "\n",
              "  .colab-df-quickchart {\n",
              "    background-color: var(--bg-color);\n",
              "    border: none;\n",
              "    border-radius: 50%;\n",
              "    cursor: pointer;\n",
              "    display: none;\n",
              "    fill: var(--fill-color);\n",
              "    height: 32px;\n",
              "    padding: 0;\n",
              "    width: 32px;\n",
              "  }\n",
              "\n",
              "  .colab-df-quickchart:hover {\n",
              "    background-color: var(--hover-bg-color);\n",
              "    box-shadow: 0 1px 2px rgba(60, 64, 67, 0.3), 0 1px 3px 1px rgba(60, 64, 67, 0.15);\n",
              "    fill: var(--button-hover-fill-color);\n",
              "  }\n",
              "\n",
              "  .colab-df-quickchart-complete:disabled,\n",
              "  .colab-df-quickchart-complete:disabled:hover {\n",
              "    background-color: var(--disabled-bg-color);\n",
              "    fill: var(--disabled-fill-color);\n",
              "    box-shadow: none;\n",
              "  }\n",
              "\n",
              "  .colab-df-spinner {\n",
              "    border: 2px solid var(--fill-color);\n",
              "    border-color: transparent;\n",
              "    border-bottom-color: var(--fill-color);\n",
              "    animation:\n",
              "      spin 1s steps(1) infinite;\n",
              "  }\n",
              "\n",
              "  @keyframes spin {\n",
              "    0% {\n",
              "      border-color: transparent;\n",
              "      border-bottom-color: var(--fill-color);\n",
              "      border-left-color: var(--fill-color);\n",
              "    }\n",
              "    20% {\n",
              "      border-color: transparent;\n",
              "      border-left-color: var(--fill-color);\n",
              "      border-top-color: var(--fill-color);\n",
              "    }\n",
              "    30% {\n",
              "      border-color: transparent;\n",
              "      border-left-color: var(--fill-color);\n",
              "      border-top-color: var(--fill-color);\n",
              "      border-right-color: var(--fill-color);\n",
              "    }\n",
              "    40% {\n",
              "      border-color: transparent;\n",
              "      border-right-color: var(--fill-color);\n",
              "      border-top-color: var(--fill-color);\n",
              "    }\n",
              "    60% {\n",
              "      border-color: transparent;\n",
              "      border-right-color: var(--fill-color);\n",
              "    }\n",
              "    80% {\n",
              "      border-color: transparent;\n",
              "      border-right-color: var(--fill-color);\n",
              "      border-bottom-color: var(--fill-color);\n",
              "    }\n",
              "    90% {\n",
              "      border-color: transparent;\n",
              "      border-bottom-color: var(--fill-color);\n",
              "    }\n",
              "  }\n",
              "</style>\n",
              "\n",
              "  <script>\n",
              "    async function quickchart(key) {\n",
              "      const quickchartButtonEl =\n",
              "        document.querySelector('#' + key + ' button');\n",
              "      quickchartButtonEl.disabled = true;  // To prevent multiple clicks.\n",
              "      quickchartButtonEl.classList.add('colab-df-spinner');\n",
              "      try {\n",
              "        const charts = await google.colab.kernel.invokeFunction(\n",
              "            'suggestCharts', [key], {});\n",
              "      } catch (error) {\n",
              "        console.error('Error during call to suggestCharts:', error);\n",
              "      }\n",
              "      quickchartButtonEl.classList.remove('colab-df-spinner');\n",
              "      quickchartButtonEl.classList.add('colab-df-quickchart-complete');\n",
              "    }\n",
              "    (() => {\n",
              "      let quickchartButtonEl =\n",
              "        document.querySelector('#df-76e873fa-43b4-48d2-9627-9ed07ee7b93c button');\n",
              "      quickchartButtonEl.style.display =\n",
              "        google.colab.kernel.accessAllowed ? 'block' : 'none';\n",
              "    })();\n",
              "  </script>\n",
              "</div>\n",
              "    </div>\n",
              "  </div>\n"
            ]
          },
          "metadata": {},
          "execution_count": 3
        }
      ]
    },
    {
      "cell_type": "code",
      "source": [
        "data.shape"
      ],
      "metadata": {
        "colab": {
          "base_uri": "https://localhost:8080/"
        },
        "id": "HChn77gHFr19",
        "outputId": "6dcff267-0fda-4bef-b1b2-7d8412f1cc1e"
      },
      "execution_count": 4,
      "outputs": [
        {
          "output_type": "execute_result",
          "data": {
            "text/plain": [
              "(2000, 21)"
            ]
          },
          "metadata": {},
          "execution_count": 4
        }
      ]
    },
    {
      "cell_type": "code",
      "source": [
        "data.dtypes"
      ],
      "metadata": {
        "colab": {
          "base_uri": "https://localhost:8080/"
        },
        "id": "qelsnIzbOLpX",
        "outputId": "8896ee5a-869c-4860-be9c-a8d29b68360c"
      },
      "execution_count": 5,
      "outputs": [
        {
          "output_type": "execute_result",
          "data": {
            "text/plain": [
              "battery_power       int64\n",
              "bluetooth           int64\n",
              "clock_speed       float64\n",
              "dual_sim            int64\n",
              "front_cam           int64\n",
              "4G                  int64\n",
              "int_memory          int64\n",
              "m_dep             float64\n",
              "mobile_wt           int64\n",
              "n_cores             int64\n",
              "primary_camera      int64\n",
              "px_height           int64\n",
              "px_width            int64\n",
              "ram                 int64\n",
              "sc_h                int64\n",
              "sc_w                int64\n",
              "talk_time           int64\n",
              "three_g             int64\n",
              "touch_screen        int64\n",
              "wifi                int64\n",
              "price_range         int64\n",
              "dtype: object"
            ]
          },
          "metadata": {},
          "execution_count": 5
        }
      ]
    },
    {
      "cell_type": "code",
      "source": [
        "data.isna().sum()"
      ],
      "metadata": {
        "colab": {
          "base_uri": "https://localhost:8080/"
        },
        "id": "gNgRtLPYGCln",
        "outputId": "1b6eecaf-711d-424d-93e9-372b8693351f"
      },
      "execution_count": 6,
      "outputs": [
        {
          "output_type": "execute_result",
          "data": {
            "text/plain": [
              "battery_power     0\n",
              "bluetooth         0\n",
              "clock_speed       0\n",
              "dual_sim          0\n",
              "front_cam         0\n",
              "4G                0\n",
              "int_memory        0\n",
              "m_dep             0\n",
              "mobile_wt         0\n",
              "n_cores           0\n",
              "primary_camera    0\n",
              "px_height         0\n",
              "px_width          0\n",
              "ram               0\n",
              "sc_h              0\n",
              "sc_w              0\n",
              "talk_time         0\n",
              "three_g           0\n",
              "touch_screen      0\n",
              "wifi              0\n",
              "price_range       0\n",
              "dtype: int64"
            ]
          },
          "metadata": {},
          "execution_count": 6
        }
      ]
    },
    {
      "cell_type": "code",
      "source": [
        "data['price_range'].value_counts()\n"
      ],
      "metadata": {
        "colab": {
          "base_uri": "https://localhost:8080/"
        },
        "id": "Yi6mGDzqGcbz",
        "outputId": "6026e6aa-1d32-4091-e29b-c6ef9982a319"
      },
      "execution_count": 7,
      "outputs": [
        {
          "output_type": "execute_result",
          "data": {
            "text/plain": [
              "1    500\n",
              "2    500\n",
              "3    500\n",
              "0    500\n",
              "Name: price_range, dtype: int64"
            ]
          },
          "metadata": {},
          "execution_count": 7
        }
      ]
    },
    {
      "cell_type": "code",
      "source": [
        "x = data.drop('price_range', axis = 1)\n",
        "y = data['price_range']"
      ],
      "metadata": {
        "id": "aZHAk1NxGlLb"
      },
      "execution_count": 8,
      "outputs": []
    },
    {
      "cell_type": "code",
      "source": [
        "data.columns"
      ],
      "metadata": {
        "colab": {
          "base_uri": "https://localhost:8080/"
        },
        "id": "P0KHrwEkNsWP",
        "outputId": "78062d75-679f-4bcf-af73-32e68dea64aa"
      },
      "execution_count": 9,
      "outputs": [
        {
          "output_type": "execute_result",
          "data": {
            "text/plain": [
              "Index(['battery_power', 'bluetooth', 'clock_speed', 'dual_sim', 'front_cam',\n",
              "       '4G', 'int_memory', 'm_dep', 'mobile_wt', 'n_cores', 'primary_camera',\n",
              "       'px_height', 'px_width', 'ram', 'sc_h', 'sc_w', 'talk_time', 'three_g',\n",
              "       'touch_screen', 'wifi', 'price_range'],\n",
              "      dtype='object')"
            ]
          },
          "metadata": {},
          "execution_count": 9
        }
      ]
    },
    {
      "cell_type": "code",
      "source": [
        "#Scaling"
      ],
      "metadata": {
        "id": "T9Dn_X9tiUFh"
      },
      "execution_count": 10,
      "outputs": []
    },
    {
      "cell_type": "code",
      "source": [
        "from sklearn.preprocessing import StandardScaler\n",
        "sc = StandardScaler()\n",
        "x.loc[:,['battery_power', 'bluetooth', 'clock_speed', 'dual_sim', 'front_cam',\n",
        "       '4G', 'int_memory', 'm_dep', 'mobile_wt', 'n_cores', 'primary_camera',\n",
        "       'px_height', 'px_width', 'ram', 'sc_h', 'sc_w', 'talk_time', 'three_g',\n",
        "       'touch_screen', 'wifi',]] = sc.fit_transform(x[['battery_power', 'bluetooth', 'clock_speed', 'dual_sim', 'front_cam',\n",
        "       '4G', 'int_memory', 'm_dep', 'mobile_wt', 'n_cores', 'primary_camera',\n",
        "       'px_height', 'px_width', 'ram', 'sc_h', 'sc_w', 'talk_time', 'three_g',\n",
        "       'touch_screen', 'wifi',]])"
      ],
      "metadata": {
        "id": "QGn19kWZM4k8"
      },
      "execution_count": 11,
      "outputs": []
    },
    {
      "cell_type": "code",
      "source": [
        "#test train split"
      ],
      "metadata": {
        "id": "pGOgGYudiW3V"
      },
      "execution_count": 12,
      "outputs": []
    },
    {
      "cell_type": "code",
      "source": [
        "from sklearn.model_selection import train_test_split\n",
        "x_train,x_test,y_train,y_test = train_test_split(x,y,test_size = .2,random_state = 42)"
      ],
      "metadata": {
        "id": "e6XXKEj3Gt-i"
      },
      "execution_count": 13,
      "outputs": []
    },
    {
      "cell_type": "code",
      "source": [
        "#creating a neural network based classifier"
      ],
      "metadata": {
        "id": "7WHyu9MWibsA"
      },
      "execution_count": 14,
      "outputs": []
    },
    {
      "cell_type": "code",
      "source": [
        "from keras.models import Sequential\n",
        "from keras.layers import Dense"
      ],
      "metadata": {
        "id": "S7ilZ-jHImKk"
      },
      "execution_count": 15,
      "outputs": []
    },
    {
      "cell_type": "code",
      "source": [
        "model = Sequential()\n",
        "model.add(Dense(10,activation = 'relu'))\n",
        "model.add(Dense(4,activation ='softmax'))"
      ],
      "metadata": {
        "id": "27Q4_MMxIoVt"
      },
      "execution_count": 16,
      "outputs": []
    },
    {
      "cell_type": "code",
      "source": [
        "model.compile(loss = 'sparse_categorical_crossentropy', optimizer = 'adam', metrics = ['accuracy'],run_eagerly=True)"
      ],
      "metadata": {
        "id": "q1QTPAE3I9Ml"
      },
      "execution_count": 17,
      "outputs": []
    },
    {
      "cell_type": "code",
      "source": [
        "history = model.fit(x_train,y_train,epochs = 100, verbose = 1 )"
      ],
      "metadata": {
        "colab": {
          "base_uri": "https://localhost:8080/"
        },
        "id": "Y2V8a_1rQZz9",
        "outputId": "6bf07efd-7436-45ee-d54c-ee5ee2d5a64f"
      },
      "execution_count": 18,
      "outputs": [
        {
          "output_type": "stream",
          "name": "stdout",
          "text": [
            "Epoch 1/100\n",
            "50/50 [==============================] - 1s 17ms/step - loss: 1.4821 - accuracy: 0.3344\n",
            "Epoch 2/100\n",
            "50/50 [==============================] - 1s 22ms/step - loss: 1.3796 - accuracy: 0.3700\n",
            "Epoch 3/100\n",
            "50/50 [==============================] - 1s 28ms/step - loss: 1.3028 - accuracy: 0.3988\n",
            "Epoch 4/100\n",
            "50/50 [==============================] - 1s 29ms/step - loss: 1.2366 - accuracy: 0.4363\n",
            "Epoch 5/100\n",
            "50/50 [==============================] - 1s 29ms/step - loss: 1.1761 - accuracy: 0.4725\n",
            "Epoch 6/100\n",
            "50/50 [==============================] - 2s 35ms/step - loss: 1.1177 - accuracy: 0.5050\n",
            "Epoch 7/100\n",
            "50/50 [==============================] - 2s 38ms/step - loss: 1.0611 - accuracy: 0.5381\n",
            "Epoch 8/100\n",
            "50/50 [==============================] - 3s 51ms/step - loss: 1.0036 - accuracy: 0.5600\n",
            "Epoch 9/100\n",
            "50/50 [==============================] - 2s 43ms/step - loss: 0.9473 - accuracy: 0.5925\n",
            "Epoch 10/100\n",
            "50/50 [==============================] - 2s 35ms/step - loss: 0.8917 - accuracy: 0.6231\n",
            "Epoch 11/100\n",
            "50/50 [==============================] - 2s 31ms/step - loss: 0.8389 - accuracy: 0.6494\n",
            "Epoch 12/100\n",
            "50/50 [==============================] - 2s 37ms/step - loss: 0.7893 - accuracy: 0.6769\n",
            "Epoch 13/100\n",
            "50/50 [==============================] - 1s 16ms/step - loss: 0.7430 - accuracy: 0.7069\n",
            "Epoch 14/100\n",
            "50/50 [==============================] - 1s 16ms/step - loss: 0.7005 - accuracy: 0.7369\n",
            "Epoch 15/100\n",
            "50/50 [==============================] - 1s 18ms/step - loss: 0.6615 - accuracy: 0.7681\n",
            "Epoch 16/100\n",
            "50/50 [==============================] - 1s 21ms/step - loss: 0.6259 - accuracy: 0.7956\n",
            "Epoch 17/100\n",
            "50/50 [==============================] - 1s 21ms/step - loss: 0.5932 - accuracy: 0.8181\n",
            "Epoch 18/100\n",
            "50/50 [==============================] - 1s 19ms/step - loss: 0.5634 - accuracy: 0.8338\n",
            "Epoch 19/100\n",
            "50/50 [==============================] - 1s 16ms/step - loss: 0.5356 - accuracy: 0.8494\n",
            "Epoch 20/100\n",
            "50/50 [==============================] - 1s 16ms/step - loss: 0.5102 - accuracy: 0.8675\n",
            "Epoch 21/100\n",
            "50/50 [==============================] - 1s 15ms/step - loss: 0.4872 - accuracy: 0.8800\n",
            "Epoch 22/100\n",
            "50/50 [==============================] - 1s 16ms/step - loss: 0.4655 - accuracy: 0.8838\n",
            "Epoch 23/100\n",
            "50/50 [==============================] - 1s 16ms/step - loss: 0.4448 - accuracy: 0.8938\n",
            "Epoch 24/100\n",
            "50/50 [==============================] - 1s 17ms/step - loss: 0.4262 - accuracy: 0.8963\n",
            "Epoch 25/100\n",
            "50/50 [==============================] - 1s 16ms/step - loss: 0.4083 - accuracy: 0.9075\n",
            "Epoch 26/100\n",
            "50/50 [==============================] - 1s 16ms/step - loss: 0.3916 - accuracy: 0.9100\n",
            "Epoch 27/100\n",
            "50/50 [==============================] - 1s 16ms/step - loss: 0.3761 - accuracy: 0.9175\n",
            "Epoch 28/100\n",
            "50/50 [==============================] - 1s 18ms/step - loss: 0.3618 - accuracy: 0.9181\n",
            "Epoch 29/100\n",
            "50/50 [==============================] - 1s 20ms/step - loss: 0.3477 - accuracy: 0.9256\n",
            "Epoch 30/100\n",
            "50/50 [==============================] - 1s 23ms/step - loss: 0.3347 - accuracy: 0.9331\n",
            "Epoch 31/100\n",
            "50/50 [==============================] - 1s 23ms/step - loss: 0.3224 - accuracy: 0.9381\n",
            "Epoch 32/100\n",
            "50/50 [==============================] - 1s 21ms/step - loss: 0.3104 - accuracy: 0.9456\n",
            "Epoch 33/100\n",
            "50/50 [==============================] - 1s 17ms/step - loss: 0.2992 - accuracy: 0.9500\n",
            "Epoch 34/100\n",
            "50/50 [==============================] - 1s 17ms/step - loss: 0.2885 - accuracy: 0.9475\n",
            "Epoch 35/100\n",
            "50/50 [==============================] - 1s 16ms/step - loss: 0.2792 - accuracy: 0.9500\n",
            "Epoch 36/100\n",
            "50/50 [==============================] - 1s 16ms/step - loss: 0.2695 - accuracy: 0.9488\n",
            "Epoch 37/100\n",
            "50/50 [==============================] - 1s 16ms/step - loss: 0.2607 - accuracy: 0.9556\n",
            "Epoch 38/100\n",
            "50/50 [==============================] - 1s 16ms/step - loss: 0.2527 - accuracy: 0.9569\n",
            "Epoch 39/100\n",
            "50/50 [==============================] - 1s 17ms/step - loss: 0.2452 - accuracy: 0.9581\n",
            "Epoch 40/100\n",
            "50/50 [==============================] - 1s 16ms/step - loss: 0.2375 - accuracy: 0.9619\n",
            "Epoch 41/100\n",
            "50/50 [==============================] - 1s 16ms/step - loss: 0.2307 - accuracy: 0.9600\n",
            "Epoch 42/100\n",
            "50/50 [==============================] - 1s 16ms/step - loss: 0.2244 - accuracy: 0.9606\n",
            "Epoch 43/100\n",
            "50/50 [==============================] - 1s 16ms/step - loss: 0.2182 - accuracy: 0.9600\n",
            "Epoch 44/100\n",
            "50/50 [==============================] - 1s 16ms/step - loss: 0.2120 - accuracy: 0.9656\n",
            "Epoch 45/100\n",
            "50/50 [==============================] - 1s 19ms/step - loss: 0.2067 - accuracy: 0.9619\n",
            "Epoch 46/100\n",
            "50/50 [==============================] - 1s 20ms/step - loss: 0.2015 - accuracy: 0.9663\n",
            "Epoch 47/100\n",
            "50/50 [==============================] - 1s 19ms/step - loss: 0.1964 - accuracy: 0.9669\n",
            "Epoch 48/100\n",
            "50/50 [==============================] - 1s 16ms/step - loss: 0.1920 - accuracy: 0.9663\n",
            "Epoch 49/100\n",
            "50/50 [==============================] - 1s 16ms/step - loss: 0.1876 - accuracy: 0.9675\n",
            "Epoch 50/100\n",
            "50/50 [==============================] - 1s 17ms/step - loss: 0.1835 - accuracy: 0.9681\n",
            "Epoch 51/100\n",
            "50/50 [==============================] - 1s 16ms/step - loss: 0.1788 - accuracy: 0.9694\n",
            "Epoch 52/100\n",
            "50/50 [==============================] - 1s 16ms/step - loss: 0.1756 - accuracy: 0.9681\n",
            "Epoch 53/100\n",
            "50/50 [==============================] - 1s 17ms/step - loss: 0.1716 - accuracy: 0.9688\n",
            "Epoch 54/100\n",
            "50/50 [==============================] - 1s 16ms/step - loss: 0.1678 - accuracy: 0.9725\n",
            "Epoch 55/100\n",
            "50/50 [==============================] - 1s 16ms/step - loss: 0.1646 - accuracy: 0.9725\n",
            "Epoch 56/100\n",
            "50/50 [==============================] - 1s 16ms/step - loss: 0.1617 - accuracy: 0.9725\n",
            "Epoch 57/100\n",
            "50/50 [==============================] - 1s 16ms/step - loss: 0.1584 - accuracy: 0.9744\n",
            "Epoch 58/100\n",
            "50/50 [==============================] - 1s 16ms/step - loss: 0.1554 - accuracy: 0.9731\n",
            "Epoch 59/100\n",
            "50/50 [==============================] - 1s 17ms/step - loss: 0.1527 - accuracy: 0.9719\n",
            "Epoch 60/100\n",
            "50/50 [==============================] - 1s 20ms/step - loss: 0.1501 - accuracy: 0.9712\n",
            "Epoch 61/100\n",
            "50/50 [==============================] - 1s 21ms/step - loss: 0.1475 - accuracy: 0.9744\n",
            "Epoch 62/100\n",
            "50/50 [==============================] - 1s 17ms/step - loss: 0.1448 - accuracy: 0.9762\n",
            "Epoch 63/100\n",
            "50/50 [==============================] - 1s 16ms/step - loss: 0.1426 - accuracy: 0.9750\n",
            "Epoch 64/100\n",
            "50/50 [==============================] - 1s 16ms/step - loss: 0.1401 - accuracy: 0.9750\n",
            "Epoch 65/100\n",
            "50/50 [==============================] - 1s 16ms/step - loss: 0.1375 - accuracy: 0.9762\n",
            "Epoch 66/100\n",
            "50/50 [==============================] - 1s 16ms/step - loss: 0.1359 - accuracy: 0.9762\n",
            "Epoch 67/100\n",
            "50/50 [==============================] - 1s 16ms/step - loss: 0.1333 - accuracy: 0.9762\n",
            "Epoch 68/100\n",
            "50/50 [==============================] - 1s 16ms/step - loss: 0.1314 - accuracy: 0.9775\n",
            "Epoch 69/100\n",
            "50/50 [==============================] - 1s 16ms/step - loss: 0.1294 - accuracy: 0.9775\n",
            "Epoch 70/100\n",
            "50/50 [==============================] - 1s 17ms/step - loss: 0.1276 - accuracy: 0.9794\n",
            "Epoch 71/100\n",
            "50/50 [==============================] - 1s 16ms/step - loss: 0.1259 - accuracy: 0.9781\n",
            "Epoch 72/100\n",
            "50/50 [==============================] - 1s 16ms/step - loss: 0.1238 - accuracy: 0.9787\n",
            "Epoch 73/100\n",
            "50/50 [==============================] - 1s 17ms/step - loss: 0.1226 - accuracy: 0.9794\n",
            "Epoch 74/100\n",
            "50/50 [==============================] - 1s 19ms/step - loss: 0.1208 - accuracy: 0.9769\n",
            "Epoch 75/100\n",
            "50/50 [==============================] - 1s 20ms/step - loss: 0.1193 - accuracy: 0.9812\n",
            "Epoch 76/100\n",
            "50/50 [==============================] - 1s 20ms/step - loss: 0.1174 - accuracy: 0.9781\n",
            "Epoch 77/100\n",
            "50/50 [==============================] - 1s 16ms/step - loss: 0.1157 - accuracy: 0.9806\n",
            "Epoch 78/100\n",
            "50/50 [==============================] - 1s 22ms/step - loss: 0.1142 - accuracy: 0.9812\n",
            "Epoch 79/100\n",
            "50/50 [==============================] - 1s 22ms/step - loss: 0.1131 - accuracy: 0.9819\n",
            "Epoch 80/100\n",
            "50/50 [==============================] - 1s 16ms/step - loss: 0.1117 - accuracy: 0.9819\n",
            "Epoch 81/100\n",
            "50/50 [==============================] - 1s 16ms/step - loss: 0.1100 - accuracy: 0.9812\n",
            "Epoch 82/100\n",
            "50/50 [==============================] - 1s 17ms/step - loss: 0.1092 - accuracy: 0.9794\n",
            "Epoch 83/100\n",
            "50/50 [==============================] - 1s 16ms/step - loss: 0.1080 - accuracy: 0.9812\n",
            "Epoch 84/100\n",
            "50/50 [==============================] - 1s 16ms/step - loss: 0.1061 - accuracy: 0.9831\n",
            "Epoch 85/100\n",
            "50/50 [==============================] - 1s 16ms/step - loss: 0.1052 - accuracy: 0.9819\n",
            "Epoch 86/100\n",
            "50/50 [==============================] - 1s 16ms/step - loss: 0.1039 - accuracy: 0.9831\n",
            "Epoch 87/100\n",
            "50/50 [==============================] - 1s 16ms/step - loss: 0.1025 - accuracy: 0.9837\n",
            "Epoch 88/100\n",
            "50/50 [==============================] - 1s 20ms/step - loss: 0.1016 - accuracy: 0.9825\n",
            "Epoch 89/100\n",
            "50/50 [==============================] - 1s 20ms/step - loss: 0.1003 - accuracy: 0.9837\n",
            "Epoch 90/100\n",
            "50/50 [==============================] - 1s 19ms/step - loss: 0.0989 - accuracy: 0.9850\n",
            "Epoch 91/100\n",
            "50/50 [==============================] - 1s 17ms/step - loss: 0.0986 - accuracy: 0.9850\n",
            "Epoch 92/100\n",
            "50/50 [==============================] - 1s 16ms/step - loss: 0.0972 - accuracy: 0.9819\n",
            "Epoch 93/100\n",
            "50/50 [==============================] - 1s 16ms/step - loss: 0.0964 - accuracy: 0.9837\n",
            "Epoch 94/100\n",
            "50/50 [==============================] - 1s 17ms/step - loss: 0.0957 - accuracy: 0.9831\n",
            "Epoch 95/100\n",
            "50/50 [==============================] - 1s 16ms/step - loss: 0.0942 - accuracy: 0.9844\n",
            "Epoch 96/100\n",
            "50/50 [==============================] - 1s 17ms/step - loss: 0.0930 - accuracy: 0.9850\n",
            "Epoch 97/100\n",
            "50/50 [==============================] - 1s 16ms/step - loss: 0.0926 - accuracy: 0.9831\n",
            "Epoch 98/100\n",
            "50/50 [==============================] - 1s 16ms/step - loss: 0.0918 - accuracy: 0.9844\n",
            "Epoch 99/100\n",
            "50/50 [==============================] - 1s 16ms/step - loss: 0.0908 - accuracy: 0.9850\n",
            "Epoch 100/100\n",
            "50/50 [==============================] - 1s 17ms/step - loss: 0.0896 - accuracy: 0.9856\n"
          ]
        }
      ]
    },
    {
      "cell_type": "code",
      "source": [
        "y_pred = model.predict(x_test)"
      ],
      "metadata": {
        "colab": {
          "base_uri": "https://localhost:8080/"
        },
        "id": "iqkfrHecJQ72",
        "outputId": "3b626a41-3899-4312-9382-34887c8b4115"
      },
      "execution_count": 19,
      "outputs": [
        {
          "output_type": "stream",
          "name": "stdout",
          "text": [
            "13/13 [==============================] - 0s 3ms/step\n"
          ]
        }
      ]
    },
    {
      "cell_type": "code",
      "source": [
        "y_pred"
      ],
      "metadata": {
        "colab": {
          "base_uri": "https://localhost:8080/"
        },
        "id": "nwSnJ4tuJaMG",
        "outputId": "414ff236-6753-4f1f-894f-3bc45730af83"
      },
      "execution_count": 20,
      "outputs": [
        {
          "output_type": "execute_result",
          "data": {
            "text/plain": [
              "array([[9.7746855e-01, 2.2531400e-02, 8.1600469e-09, 2.8738023e-10],\n",
              "       [1.8493498e-07, 2.2477325e-02, 9.7737461e-01, 1.4780943e-04],\n",
              "       [3.9791167e-03, 9.9494106e-01, 1.0794329e-03, 3.4772401e-07],\n",
              "       ...,\n",
              "       [3.1479922e-04, 9.8139375e-01, 1.8290432e-02, 1.0123147e-06],\n",
              "       [1.6647604e-03, 9.7896796e-01, 1.9339269e-02, 2.8052767e-05],\n",
              "       [1.8885344e-09, 8.8202150e-04, 9.9571443e-01, 3.4035782e-03]],\n",
              "      dtype=float32)"
            ]
          },
          "metadata": {},
          "execution_count": 20
        }
      ]
    },
    {
      "cell_type": "code",
      "source": [
        "#Accuracy"
      ],
      "metadata": {
        "id": "DfvzFb7riHaV"
      },
      "execution_count": 21,
      "outputs": []
    },
    {
      "cell_type": "code",
      "source": [
        "from sklearn.metrics import accuracy_score"
      ],
      "metadata": {
        "id": "NgtJ5nqUQBSd"
      },
      "execution_count": 22,
      "outputs": []
    },
    {
      "cell_type": "code",
      "source": [
        "pred = []\n",
        "for i in range(len(y_pred)):\n",
        "    pred.append(np.argmax(y_pred[i]))\n",
        "\n"
      ],
      "metadata": {
        "id": "_vSbYpPAQMJJ"
      },
      "execution_count": 23,
      "outputs": []
    },
    {
      "cell_type": "code",
      "source": [
        "accuracy_score(y_test,pred)"
      ],
      "metadata": {
        "colab": {
          "base_uri": "https://localhost:8080/"
        },
        "id": "T_lPcJZxQE2A",
        "outputId": "727aa094-4134-4e91-c03d-9ffb4cfd1d9d"
      },
      "execution_count": 24,
      "outputs": [
        {
          "output_type": "execute_result",
          "data": {
            "text/plain": [
              "0.9675"
            ]
          },
          "metadata": {},
          "execution_count": 24
        }
      ]
    },
    {
      "cell_type": "code",
      "source": [
        "import matplotlib.pyplot as plt\n",
        "plt.plot(history.history['accuracy'])\n",
        "plt.title('Model accuracy')\n",
        "plt.xlabel('Epochs')\n",
        "plt.ylabel('Accuracy')\n",
        "plt.show()"
      ],
      "metadata": {
        "colab": {
          "base_uri": "https://localhost:8080/",
          "height": 472
        },
        "id": "hH7dhfhkQICJ",
        "outputId": "afefe5d6-1d90-4466-a372-120fdf4010d3"
      },
      "execution_count": 25,
      "outputs": [
        {
          "output_type": "display_data",
          "data": {
            "text/plain": [
              "<Figure size 640x480 with 1 Axes>"
            ],
            "image/png": "[encoded data removed]"
          },
          "metadata": {}
        }
      ]
    }
  ]
}